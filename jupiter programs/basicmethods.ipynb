{
 "metadata": {
  "language_info": {
   "codemirror_mode": {
    "name": "ipython",
    "version": 3
   },
   "file_extension": ".py",
   "mimetype": "text/x-python",
   "name": "python",
   "nbconvert_exporter": "python",
   "pygments_lexer": "ipython3",
   "version": "3.9.4"
  },
  "orig_nbformat": 2,
  "kernelspec": {
   "name": "python394jvsc74a57bd0ac59ebe37160ed0dfa835113d9b8498d9f09ceb179beaac4002f036b9467c963",
   "display_name": "Python 3.9.4 64-bit"
  },
  "metadata": {
   "interpreter": {
    "hash": "ac59ebe37160ed0dfa835113d9b8498d9f09ceb179beaac4002f036b9467c963"
   }
  }
 },
 "nbformat": 4,
 "nbformat_minor": 2,
 "cells": [
  {
   "cell_type": "code",
   "execution_count": 25,
   "metadata": {},
   "outputs": [],
   "source": [
    "import pandas as pd \n",
    "import seaborn as sns\n",
    "import matplotlib.pyplot as plt\n",
    "import numpy as np"
   ]
  },
  {
   "cell_type": "code",
   "execution_count": 26,
   "metadata": {},
   "outputs": [],
   "source": [
    "data=r\"C:\\Users\\janvi soni\\Desktop\\datasets\\Groceries data.csv\"\n",
    "names=['Member_number','Date','itemDescription','year','month','day','day_of_week']"
   ]
  },
  {
   "cell_type": "code",
   "execution_count": 27,
   "metadata": {},
   "outputs": [
    {
     "output_type": "execute_result",
     "data": {
      "text/plain": [
       "       Member_number        Date        itemDescription  year  month  day  \\\n",
       "0               1808  2015-07-21         tropical fruit  2015      7   21   \n",
       "1               2552  2015-05-01             whole milk  2015      5    1   \n",
       "2               2300  2015-09-19              pip fruit  2015      9   19   \n",
       "3               1187  2015-12-12       other vegetables  2015     12   12   \n",
       "4               3037  2015-01-02             whole milk  2015      1    2   \n",
       "...              ...         ...                    ...   ...    ...  ...   \n",
       "38760           4471  2014-08-10          sliced cheese  2014      8   10   \n",
       "38761           2022  2014-02-23                  candy  2014      2   23   \n",
       "38762           1097  2014-04-16               cake bar  2014      4   16   \n",
       "38763           1510  2014-03-12  fruit/vegetable juice  2014      3   12   \n",
       "38764           1521  2014-12-26               cat food  2014     12   26   \n",
       "\n",
       "       day_of_week  \n",
       "0                1  \n",
       "1                4  \n",
       "2                5  \n",
       "3                5  \n",
       "4                4  \n",
       "...            ...  \n",
       "38760            6  \n",
       "38761            6  \n",
       "38762            2  \n",
       "38763            2  \n",
       "38764            4  \n",
       "\n",
       "[38765 rows x 7 columns]"
      ],
      "text/html": "<div>\n<style scoped>\n    .dataframe tbody tr th:only-of-type {\n        vertical-align: middle;\n    }\n\n    .dataframe tbody tr th {\n        vertical-align: top;\n    }\n\n    .dataframe thead th {\n        text-align: right;\n    }\n</style>\n<table border=\"1\" class=\"dataframe\">\n  <thead>\n    <tr style=\"text-align: right;\">\n      <th></th>\n      <th>Member_number</th>\n      <th>Date</th>\n      <th>itemDescription</th>\n      <th>year</th>\n      <th>month</th>\n      <th>day</th>\n      <th>day_of_week</th>\n    </tr>\n  </thead>\n  <tbody>\n    <tr>\n      <th>0</th>\n      <td>1808</td>\n      <td>2015-07-21</td>\n      <td>tropical fruit</td>\n      <td>2015</td>\n      <td>7</td>\n      <td>21</td>\n      <td>1</td>\n    </tr>\n    <tr>\n      <th>1</th>\n      <td>2552</td>\n      <td>2015-05-01</td>\n      <td>whole milk</td>\n      <td>2015</td>\n      <td>5</td>\n      <td>1</td>\n      <td>4</td>\n    </tr>\n    <tr>\n      <th>2</th>\n      <td>2300</td>\n      <td>2015-09-19</td>\n      <td>pip fruit</td>\n      <td>2015</td>\n      <td>9</td>\n      <td>19</td>\n      <td>5</td>\n    </tr>\n    <tr>\n      <th>3</th>\n      <td>1187</td>\n      <td>2015-12-12</td>\n      <td>other vegetables</td>\n      <td>2015</td>\n      <td>12</td>\n      <td>12</td>\n      <td>5</td>\n    </tr>\n    <tr>\n      <th>4</th>\n      <td>3037</td>\n      <td>2015-01-02</td>\n      <td>whole milk</td>\n      <td>2015</td>\n      <td>1</td>\n      <td>2</td>\n      <td>4</td>\n    </tr>\n    <tr>\n      <th>...</th>\n      <td>...</td>\n      <td>...</td>\n      <td>...</td>\n      <td>...</td>\n      <td>...</td>\n      <td>...</td>\n      <td>...</td>\n    </tr>\n    <tr>\n      <th>38760</th>\n      <td>4471</td>\n      <td>2014-08-10</td>\n      <td>sliced cheese</td>\n      <td>2014</td>\n      <td>8</td>\n      <td>10</td>\n      <td>6</td>\n    </tr>\n    <tr>\n      <th>38761</th>\n      <td>2022</td>\n      <td>2014-02-23</td>\n      <td>candy</td>\n      <td>2014</td>\n      <td>2</td>\n      <td>23</td>\n      <td>6</td>\n    </tr>\n    <tr>\n      <th>38762</th>\n      <td>1097</td>\n      <td>2014-04-16</td>\n      <td>cake bar</td>\n      <td>2014</td>\n      <td>4</td>\n      <td>16</td>\n      <td>2</td>\n    </tr>\n    <tr>\n      <th>38763</th>\n      <td>1510</td>\n      <td>2014-03-12</td>\n      <td>fruit/vegetable juice</td>\n      <td>2014</td>\n      <td>3</td>\n      <td>12</td>\n      <td>2</td>\n    </tr>\n    <tr>\n      <th>38764</th>\n      <td>1521</td>\n      <td>2014-12-26</td>\n      <td>cat food</td>\n      <td>2014</td>\n      <td>12</td>\n      <td>26</td>\n      <td>4</td>\n    </tr>\n  </tbody>\n</table>\n<p>38765 rows × 7 columns</p>\n</div>"
     },
     "metadata": {},
     "execution_count": 27
    }
   ],
   "source": [
    "\n",
    "df=pd.read_csv(data)\n",
    "df"
   ]
  },
  {
   "cell_type": "code",
   "execution_count": 28,
   "metadata": {},
   "outputs": [
    {
     "output_type": "execute_result",
     "data": {
      "text/plain": [
       "       Member_number        Date        itemDescription  year  month  day  \\\n",
       "0      Member_number        Date        itemDescription  year  month  day   \n",
       "1               1808  2015-07-21         tropical fruit  2015      7   21   \n",
       "2               2552  2015-05-01             whole milk  2015      5    1   \n",
       "3               2300  2015-09-19              pip fruit  2015      9   19   \n",
       "4               1187  2015-12-12       other vegetables  2015     12   12   \n",
       "...              ...         ...                    ...   ...    ...  ...   \n",
       "38761           4471  2014-08-10          sliced cheese  2014      8   10   \n",
       "38762           2022  2014-02-23                  candy  2014      2   23   \n",
       "38763           1097  2014-04-16               cake bar  2014      4   16   \n",
       "38764           1510  2014-03-12  fruit/vegetable juice  2014      3   12   \n",
       "38765           1521  2014-12-26               cat food  2014     12   26   \n",
       "\n",
       "       day_of_week  \n",
       "0      day_of_week  \n",
       "1                1  \n",
       "2                4  \n",
       "3                5  \n",
       "4                5  \n",
       "...            ...  \n",
       "38761            6  \n",
       "38762            6  \n",
       "38763            2  \n",
       "38764            2  \n",
       "38765            4  \n",
       "\n",
       "[38766 rows x 7 columns]"
      ],
      "text/html": "<div>\n<style scoped>\n    .dataframe tbody tr th:only-of-type {\n        vertical-align: middle;\n    }\n\n    .dataframe tbody tr th {\n        vertical-align: top;\n    }\n\n    .dataframe thead th {\n        text-align: right;\n    }\n</style>\n<table border=\"1\" class=\"dataframe\">\n  <thead>\n    <tr style=\"text-align: right;\">\n      <th></th>\n      <th>Member_number</th>\n      <th>Date</th>\n      <th>itemDescription</th>\n      <th>year</th>\n      <th>month</th>\n      <th>day</th>\n      <th>day_of_week</th>\n    </tr>\n  </thead>\n  <tbody>\n    <tr>\n      <th>0</th>\n      <td>Member_number</td>\n      <td>Date</td>\n      <td>itemDescription</td>\n      <td>year</td>\n      <td>month</td>\n      <td>day</td>\n      <td>day_of_week</td>\n    </tr>\n    <tr>\n      <th>1</th>\n      <td>1808</td>\n      <td>2015-07-21</td>\n      <td>tropical fruit</td>\n      <td>2015</td>\n      <td>7</td>\n      <td>21</td>\n      <td>1</td>\n    </tr>\n    <tr>\n      <th>2</th>\n      <td>2552</td>\n      <td>2015-05-01</td>\n      <td>whole milk</td>\n      <td>2015</td>\n      <td>5</td>\n      <td>1</td>\n      <td>4</td>\n    </tr>\n    <tr>\n      <th>3</th>\n      <td>2300</td>\n      <td>2015-09-19</td>\n      <td>pip fruit</td>\n      <td>2015</td>\n      <td>9</td>\n      <td>19</td>\n      <td>5</td>\n    </tr>\n    <tr>\n      <th>4</th>\n      <td>1187</td>\n      <td>2015-12-12</td>\n      <td>other vegetables</td>\n      <td>2015</td>\n      <td>12</td>\n      <td>12</td>\n      <td>5</td>\n    </tr>\n    <tr>\n      <th>...</th>\n      <td>...</td>\n      <td>...</td>\n      <td>...</td>\n      <td>...</td>\n      <td>...</td>\n      <td>...</td>\n      <td>...</td>\n    </tr>\n    <tr>\n      <th>38761</th>\n      <td>4471</td>\n      <td>2014-08-10</td>\n      <td>sliced cheese</td>\n      <td>2014</td>\n      <td>8</td>\n      <td>10</td>\n      <td>6</td>\n    </tr>\n    <tr>\n      <th>38762</th>\n      <td>2022</td>\n      <td>2014-02-23</td>\n      <td>candy</td>\n      <td>2014</td>\n      <td>2</td>\n      <td>23</td>\n      <td>6</td>\n    </tr>\n    <tr>\n      <th>38763</th>\n      <td>1097</td>\n      <td>2014-04-16</td>\n      <td>cake bar</td>\n      <td>2014</td>\n      <td>4</td>\n      <td>16</td>\n      <td>2</td>\n    </tr>\n    <tr>\n      <th>38764</th>\n      <td>1510</td>\n      <td>2014-03-12</td>\n      <td>fruit/vegetable juice</td>\n      <td>2014</td>\n      <td>3</td>\n      <td>12</td>\n      <td>2</td>\n    </tr>\n    <tr>\n      <th>38765</th>\n      <td>1521</td>\n      <td>2014-12-26</td>\n      <td>cat food</td>\n      <td>2014</td>\n      <td>12</td>\n      <td>26</td>\n      <td>4</td>\n    </tr>\n  </tbody>\n</table>\n<p>38766 rows × 7 columns</p>\n</div>"
     },
     "metadata": {},
     "execution_count": 28
    }
   ],
   "source": [
    "df=pd.read_csv(data,names=names)\n",
    "df"
   ]
  },
  {
   "cell_type": "code",
   "execution_count": 13,
   "metadata": {},
   "outputs": [
    {
     "output_type": "stream",
     "name": "stdout",
     "text": [
      "<class 'pandas.core.frame.DataFrame'>\nRangeIndex: 38766 entries, 0 to 38765\nData columns (total 7 columns):\n #   Column           Non-Null Count  Dtype \n---  ------           --------------  ----- \n 0   Member_number    38766 non-null  object\n 1   Date             38766 non-null  object\n 2   itemDescription  38766 non-null  object\n 3   year             38766 non-null  object\n 4   month            38766 non-null  object\n 5   day              38766 non-null  object\n 6   day_of_week      38766 non-null  object\ndtypes: object(7)\nmemory usage: 2.1+ MB\n"
     ]
    }
   ],
   "source": [
    "df.info()"
   ]
  },
  {
   "cell_type": "code",
   "execution_count": 19,
   "metadata": {},
   "outputs": [
    {
     "output_type": "execute_result",
     "data": {
      "text/plain": [
       "0               tropical fruit\n",
       "1                   whole milk\n",
       "2                    pip fruit\n",
       "3             other vegetables\n",
       "4                   whole milk\n",
       "                 ...          \n",
       "38760            sliced cheese\n",
       "38761                    candy\n",
       "38762                 cake bar\n",
       "38763    fruit/vegetable juice\n",
       "38764                 cat food\n",
       "Name: itemDescription, Length: 38765, dtype: object"
      ]
     },
     "metadata": {},
     "execution_count": 19
    }
   ],
   "source": [
    "df['itemDescription']"
   ]
  },
  {
   "cell_type": "code",
   "execution_count": 20,
   "metadata": {},
   "outputs": [
    {
     "output_type": "execute_result",
     "data": {
      "text/plain": [
       "count          38765\n",
       "unique           167\n",
       "top       whole milk\n",
       "freq            2502\n",
       "Name: itemDescription, dtype: object"
      ]
     },
     "metadata": {},
     "execution_count": 20
    }
   ],
   "source": [
    "df['itemDescription'].describe()"
   ]
  },
  {
   "cell_type": "code",
   "execution_count": 21,
   "metadata": {},
   "outputs": [
    {
     "output_type": "execute_result",
     "data": {
      "text/plain": [
       "       Member_number          year         month           day   day_of_week\n",
       "count   38765.000000  38765.000000  38765.000000  38765.000000  38765.000000\n",
       "mean     3003.641868   2014.528518      6.477570     15.753231      3.014498\n",
       "std      1153.611031      0.499193      3.431561      8.801391      1.987669\n",
       "min      1000.000000   2014.000000      1.000000      1.000000      0.000000\n",
       "25%      2002.000000   2014.000000      4.000000      8.000000      1.000000\n",
       "50%      3005.000000   2015.000000      6.000000     16.000000      3.000000\n",
       "75%      4007.000000   2015.000000      9.000000     23.000000      5.000000\n",
       "max      5000.000000   2015.000000     12.000000     31.000000      6.000000"
      ],
      "text/html": "<div>\n<style scoped>\n    .dataframe tbody tr th:only-of-type {\n        vertical-align: middle;\n    }\n\n    .dataframe tbody tr th {\n        vertical-align: top;\n    }\n\n    .dataframe thead th {\n        text-align: right;\n    }\n</style>\n<table border=\"1\" class=\"dataframe\">\n  <thead>\n    <tr style=\"text-align: right;\">\n      <th></th>\n      <th>Member_number</th>\n      <th>year</th>\n      <th>month</th>\n      <th>day</th>\n      <th>day_of_week</th>\n    </tr>\n  </thead>\n  <tbody>\n    <tr>\n      <th>count</th>\n      <td>38765.000000</td>\n      <td>38765.000000</td>\n      <td>38765.000000</td>\n      <td>38765.000000</td>\n      <td>38765.000000</td>\n    </tr>\n    <tr>\n      <th>mean</th>\n      <td>3003.641868</td>\n      <td>2014.528518</td>\n      <td>6.477570</td>\n      <td>15.753231</td>\n      <td>3.014498</td>\n    </tr>\n    <tr>\n      <th>std</th>\n      <td>1153.611031</td>\n      <td>0.499193</td>\n      <td>3.431561</td>\n      <td>8.801391</td>\n      <td>1.987669</td>\n    </tr>\n    <tr>\n      <th>min</th>\n      <td>1000.000000</td>\n      <td>2014.000000</td>\n      <td>1.000000</td>\n      <td>1.000000</td>\n      <td>0.000000</td>\n    </tr>\n    <tr>\n      <th>25%</th>\n      <td>2002.000000</td>\n      <td>2014.000000</td>\n      <td>4.000000</td>\n      <td>8.000000</td>\n      <td>1.000000</td>\n    </tr>\n    <tr>\n      <th>50%</th>\n      <td>3005.000000</td>\n      <td>2015.000000</td>\n      <td>6.000000</td>\n      <td>16.000000</td>\n      <td>3.000000</td>\n    </tr>\n    <tr>\n      <th>75%</th>\n      <td>4007.000000</td>\n      <td>2015.000000</td>\n      <td>9.000000</td>\n      <td>23.000000</td>\n      <td>5.000000</td>\n    </tr>\n    <tr>\n      <th>max</th>\n      <td>5000.000000</td>\n      <td>2015.000000</td>\n      <td>12.000000</td>\n      <td>31.000000</td>\n      <td>6.000000</td>\n    </tr>\n  </tbody>\n</table>\n</div>"
     },
     "metadata": {},
     "execution_count": 21
    }
   ],
   "source": [
    "df.describe()"
   ]
  },
  {
   "cell_type": "code",
   "execution_count": 22,
   "metadata": {},
   "outputs": [
    {
     "output_type": "execute_result",
     "data": {
      "text/plain": [
       "              Date itemDescription\n",
       "count        38765           38765\n",
       "unique         728             167\n",
       "top     2015-01-21      whole milk\n",
       "freq            96            2502"
      ],
      "text/html": "<div>\n<style scoped>\n    .dataframe tbody tr th:only-of-type {\n        vertical-align: middle;\n    }\n\n    .dataframe tbody tr th {\n        vertical-align: top;\n    }\n\n    .dataframe thead th {\n        text-align: right;\n    }\n</style>\n<table border=\"1\" class=\"dataframe\">\n  <thead>\n    <tr style=\"text-align: right;\">\n      <th></th>\n      <th>Date</th>\n      <th>itemDescription</th>\n    </tr>\n  </thead>\n  <tbody>\n    <tr>\n      <th>count</th>\n      <td>38765</td>\n      <td>38765</td>\n    </tr>\n    <tr>\n      <th>unique</th>\n      <td>728</td>\n      <td>167</td>\n    </tr>\n    <tr>\n      <th>top</th>\n      <td>2015-01-21</td>\n      <td>whole milk</td>\n    </tr>\n    <tr>\n      <th>freq</th>\n      <td>96</td>\n      <td>2502</td>\n    </tr>\n  </tbody>\n</table>\n</div>"
     },
     "metadata": {},
     "execution_count": 22
    }
   ],
   "source": [
    "df.describe(include='object')"
   ]
  },
  {
   "cell_type": "code",
   "execution_count": 23,
   "metadata": {},
   "outputs": [
    {
     "output_type": "execute_result",
     "data": {
      "text/plain": [
       "Member_number      0\n",
       "Date               0\n",
       "itemDescription    0\n",
       "year               0\n",
       "month              0\n",
       "day                0\n",
       "day_of_week        0\n",
       "dtype: int64"
      ]
     },
     "metadata": {},
     "execution_count": 23
    }
   ],
   "source": [
    "df.isnull().sum()\n"
   ]
  },
  {
   "cell_type": "code",
   "execution_count": 29,
   "metadata": {},
   "outputs": [
    {
     "output_type": "execute_result",
     "data": {
      "text/plain": [
       "   Member_number        Date   itemDescription  year  month  day  day_of_week\n",
       "0  Member_number        Date   itemDescription  year  month  day  day_of_week\n",
       "1           1808  2015-07-21    tropical fruit  2015      7   21            1\n",
       "2           2552  2015-05-01        whole milk  2015      5    1            4\n",
       "3           2300  2015-09-19         pip fruit  2015      9   19            5\n",
       "4           1187  2015-12-12  other vegetables  2015     12   12            5"
      ],
      "text/html": "<div>\n<style scoped>\n    .dataframe tbody tr th:only-of-type {\n        vertical-align: middle;\n    }\n\n    .dataframe tbody tr th {\n        vertical-align: top;\n    }\n\n    .dataframe thead th {\n        text-align: right;\n    }\n</style>\n<table border=\"1\" class=\"dataframe\">\n  <thead>\n    <tr style=\"text-align: right;\">\n      <th></th>\n      <th>Member_number</th>\n      <th>Date</th>\n      <th>itemDescription</th>\n      <th>year</th>\n      <th>month</th>\n      <th>day</th>\n      <th>day_of_week</th>\n    </tr>\n  </thead>\n  <tbody>\n    <tr>\n      <th>0</th>\n      <td>Member_number</td>\n      <td>Date</td>\n      <td>itemDescription</td>\n      <td>year</td>\n      <td>month</td>\n      <td>day</td>\n      <td>day_of_week</td>\n    </tr>\n    <tr>\n      <th>1</th>\n      <td>1808</td>\n      <td>2015-07-21</td>\n      <td>tropical fruit</td>\n      <td>2015</td>\n      <td>7</td>\n      <td>21</td>\n      <td>1</td>\n    </tr>\n    <tr>\n      <th>2</th>\n      <td>2552</td>\n      <td>2015-05-01</td>\n      <td>whole milk</td>\n      <td>2015</td>\n      <td>5</td>\n      <td>1</td>\n      <td>4</td>\n    </tr>\n    <tr>\n      <th>3</th>\n      <td>2300</td>\n      <td>2015-09-19</td>\n      <td>pip fruit</td>\n      <td>2015</td>\n      <td>9</td>\n      <td>19</td>\n      <td>5</td>\n    </tr>\n    <tr>\n      <th>4</th>\n      <td>1187</td>\n      <td>2015-12-12</td>\n      <td>other vegetables</td>\n      <td>2015</td>\n      <td>12</td>\n      <td>12</td>\n      <td>5</td>\n    </tr>\n  </tbody>\n</table>\n</div>"
     },
     "metadata": {},
     "execution_count": 29
    }
   ],
   "source": [
    "df.head()"
   ]
  },
  {
   "cell_type": "code",
   "execution_count": 30,
   "metadata": {},
   "outputs": [
    {
     "output_type": "execute_result",
     "data": {
      "text/plain": [
       "    Member_number        Date            itemDescription  year  month  day  \\\n",
       "0   Member_number        Date            itemDescription  year  month  day   \n",
       "1            1808  2015-07-21             tropical fruit  2015      7   21   \n",
       "2            2552  2015-05-01                 whole milk  2015      5    1   \n",
       "3            2300  2015-09-19                  pip fruit  2015      9   19   \n",
       "4            1187  2015-12-12           other vegetables  2015     12   12   \n",
       "5            3037  2015-01-02                 whole milk  2015      1    2   \n",
       "6            4941  2015-02-14                 rolls/buns  2015      2   14   \n",
       "7            4501  2015-08-05           other vegetables  2015      8    5   \n",
       "8            3803  2015-12-23                 pot plants  2015     12   23   \n",
       "9            2762  2015-03-20                 whole milk  2015      3   20   \n",
       "10           4119  2015-12-02             tropical fruit  2015     12    2   \n",
       "11           1340  2015-02-24               citrus fruit  2015      2   24   \n",
       "12           2193  2015-04-14                       beef  2015      4   14   \n",
       "13           1997  2015-07-21                frankfurter  2015      7   21   \n",
       "14           4546  2015-03-09                    chicken  2015      3    9   \n",
       "15           4736  2015-07-21                     butter  2015      7   21   \n",
       "16           1959  2015-03-30      fruit/vegetable juice  2015      3   30   \n",
       "17           1974  2015-03-05  packaged fruit/vegetables  2015      3    5   \n",
       "18           2421  2015-02-09                  chocolate  2015      2    9   \n",
       "19           1513  2015-03-08              specialty bar  2015      3    8   \n",
       "20           1905  2015-07-07           other vegetables  2015      7    7   \n",
       "21           2810  2015-08-09                butter milk  2015      8    9   \n",
       "22           2867  2015-12-11                 whole milk  2015     12   11   \n",
       "23           3962  2015-09-18             tropical fruit  2015      9   18   \n",
       "24           1088  2015-11-30             tropical fruit  2015     11   30   \n",
       "25           4976  2015-07-17              bottled water  2015      7   17   \n",
       "26           4056  2015-12-06                     yogurt  2015     12    6   \n",
       "27           3611  2015-02-13                    sausage  2015      2   13   \n",
       "28           1420  2015-01-14           other vegetables  2015      1   14   \n",
       "29           4286  2015-08-03                brown bread  2015      8    3   \n",
       "\n",
       "    day_of_week  \n",
       "0   day_of_week  \n",
       "1             1  \n",
       "2             4  \n",
       "3             5  \n",
       "4             5  \n",
       "5             4  \n",
       "6             5  \n",
       "7             2  \n",
       "8             2  \n",
       "9             4  \n",
       "10            2  \n",
       "11            1  \n",
       "12            1  \n",
       "13            1  \n",
       "14            0  \n",
       "15            1  \n",
       "16            0  \n",
       "17            3  \n",
       "18            0  \n",
       "19            6  \n",
       "20            1  \n",
       "21            6  \n",
       "22            4  \n",
       "23            4  \n",
       "24            0  \n",
       "25            4  \n",
       "26            6  \n",
       "27            4  \n",
       "28            2  \n",
       "29            0  "
      ],
      "text/html": "<div>\n<style scoped>\n    .dataframe tbody tr th:only-of-type {\n        vertical-align: middle;\n    }\n\n    .dataframe tbody tr th {\n        vertical-align: top;\n    }\n\n    .dataframe thead th {\n        text-align: right;\n    }\n</style>\n<table border=\"1\" class=\"dataframe\">\n  <thead>\n    <tr style=\"text-align: right;\">\n      <th></th>\n      <th>Member_number</th>\n      <th>Date</th>\n      <th>itemDescription</th>\n      <th>year</th>\n      <th>month</th>\n      <th>day</th>\n      <th>day_of_week</th>\n    </tr>\n  </thead>\n  <tbody>\n    <tr>\n      <th>0</th>\n      <td>Member_number</td>\n      <td>Date</td>\n      <td>itemDescription</td>\n      <td>year</td>\n      <td>month</td>\n      <td>day</td>\n      <td>day_of_week</td>\n    </tr>\n    <tr>\n      <th>1</th>\n      <td>1808</td>\n      <td>2015-07-21</td>\n      <td>tropical fruit</td>\n      <td>2015</td>\n      <td>7</td>\n      <td>21</td>\n      <td>1</td>\n    </tr>\n    <tr>\n      <th>2</th>\n      <td>2552</td>\n      <td>2015-05-01</td>\n      <td>whole milk</td>\n      <td>2015</td>\n      <td>5</td>\n      <td>1</td>\n      <td>4</td>\n    </tr>\n    <tr>\n      <th>3</th>\n      <td>2300</td>\n      <td>2015-09-19</td>\n      <td>pip fruit</td>\n      <td>2015</td>\n      <td>9</td>\n      <td>19</td>\n      <td>5</td>\n    </tr>\n    <tr>\n      <th>4</th>\n      <td>1187</td>\n      <td>2015-12-12</td>\n      <td>other vegetables</td>\n      <td>2015</td>\n      <td>12</td>\n      <td>12</td>\n      <td>5</td>\n    </tr>\n    <tr>\n      <th>5</th>\n      <td>3037</td>\n      <td>2015-01-02</td>\n      <td>whole milk</td>\n      <td>2015</td>\n      <td>1</td>\n      <td>2</td>\n      <td>4</td>\n    </tr>\n    <tr>\n      <th>6</th>\n      <td>4941</td>\n      <td>2015-02-14</td>\n      <td>rolls/buns</td>\n      <td>2015</td>\n      <td>2</td>\n      <td>14</td>\n      <td>5</td>\n    </tr>\n    <tr>\n      <th>7</th>\n      <td>4501</td>\n      <td>2015-08-05</td>\n      <td>other vegetables</td>\n      <td>2015</td>\n      <td>8</td>\n      <td>5</td>\n      <td>2</td>\n    </tr>\n    <tr>\n      <th>8</th>\n      <td>3803</td>\n      <td>2015-12-23</td>\n      <td>pot plants</td>\n      <td>2015</td>\n      <td>12</td>\n      <td>23</td>\n      <td>2</td>\n    </tr>\n    <tr>\n      <th>9</th>\n      <td>2762</td>\n      <td>2015-03-20</td>\n      <td>whole milk</td>\n      <td>2015</td>\n      <td>3</td>\n      <td>20</td>\n      <td>4</td>\n    </tr>\n    <tr>\n      <th>10</th>\n      <td>4119</td>\n      <td>2015-12-02</td>\n      <td>tropical fruit</td>\n      <td>2015</td>\n      <td>12</td>\n      <td>2</td>\n      <td>2</td>\n    </tr>\n    <tr>\n      <th>11</th>\n      <td>1340</td>\n      <td>2015-02-24</td>\n      <td>citrus fruit</td>\n      <td>2015</td>\n      <td>2</td>\n      <td>24</td>\n      <td>1</td>\n    </tr>\n    <tr>\n      <th>12</th>\n      <td>2193</td>\n      <td>2015-04-14</td>\n      <td>beef</td>\n      <td>2015</td>\n      <td>4</td>\n      <td>14</td>\n      <td>1</td>\n    </tr>\n    <tr>\n      <th>13</th>\n      <td>1997</td>\n      <td>2015-07-21</td>\n      <td>frankfurter</td>\n      <td>2015</td>\n      <td>7</td>\n      <td>21</td>\n      <td>1</td>\n    </tr>\n    <tr>\n      <th>14</th>\n      <td>4546</td>\n      <td>2015-03-09</td>\n      <td>chicken</td>\n      <td>2015</td>\n      <td>3</td>\n      <td>9</td>\n      <td>0</td>\n    </tr>\n    <tr>\n      <th>15</th>\n      <td>4736</td>\n      <td>2015-07-21</td>\n      <td>butter</td>\n      <td>2015</td>\n      <td>7</td>\n      <td>21</td>\n      <td>1</td>\n    </tr>\n    <tr>\n      <th>16</th>\n      <td>1959</td>\n      <td>2015-03-30</td>\n      <td>fruit/vegetable juice</td>\n      <td>2015</td>\n      <td>3</td>\n      <td>30</td>\n      <td>0</td>\n    </tr>\n    <tr>\n      <th>17</th>\n      <td>1974</td>\n      <td>2015-03-05</td>\n      <td>packaged fruit/vegetables</td>\n      <td>2015</td>\n      <td>3</td>\n      <td>5</td>\n      <td>3</td>\n    </tr>\n    <tr>\n      <th>18</th>\n      <td>2421</td>\n      <td>2015-02-09</td>\n      <td>chocolate</td>\n      <td>2015</td>\n      <td>2</td>\n      <td>9</td>\n      <td>0</td>\n    </tr>\n    <tr>\n      <th>19</th>\n      <td>1513</td>\n      <td>2015-03-08</td>\n      <td>specialty bar</td>\n      <td>2015</td>\n      <td>3</td>\n      <td>8</td>\n      <td>6</td>\n    </tr>\n    <tr>\n      <th>20</th>\n      <td>1905</td>\n      <td>2015-07-07</td>\n      <td>other vegetables</td>\n      <td>2015</td>\n      <td>7</td>\n      <td>7</td>\n      <td>1</td>\n    </tr>\n    <tr>\n      <th>21</th>\n      <td>2810</td>\n      <td>2015-08-09</td>\n      <td>butter milk</td>\n      <td>2015</td>\n      <td>8</td>\n      <td>9</td>\n      <td>6</td>\n    </tr>\n    <tr>\n      <th>22</th>\n      <td>2867</td>\n      <td>2015-12-11</td>\n      <td>whole milk</td>\n      <td>2015</td>\n      <td>12</td>\n      <td>11</td>\n      <td>4</td>\n    </tr>\n    <tr>\n      <th>23</th>\n      <td>3962</td>\n      <td>2015-09-18</td>\n      <td>tropical fruit</td>\n      <td>2015</td>\n      <td>9</td>\n      <td>18</td>\n      <td>4</td>\n    </tr>\n    <tr>\n      <th>24</th>\n      <td>1088</td>\n      <td>2015-11-30</td>\n      <td>tropical fruit</td>\n      <td>2015</td>\n      <td>11</td>\n      <td>30</td>\n      <td>0</td>\n    </tr>\n    <tr>\n      <th>25</th>\n      <td>4976</td>\n      <td>2015-07-17</td>\n      <td>bottled water</td>\n      <td>2015</td>\n      <td>7</td>\n      <td>17</td>\n      <td>4</td>\n    </tr>\n    <tr>\n      <th>26</th>\n      <td>4056</td>\n      <td>2015-12-06</td>\n      <td>yogurt</td>\n      <td>2015</td>\n      <td>12</td>\n      <td>6</td>\n      <td>6</td>\n    </tr>\n    <tr>\n      <th>27</th>\n      <td>3611</td>\n      <td>2015-02-13</td>\n      <td>sausage</td>\n      <td>2015</td>\n      <td>2</td>\n      <td>13</td>\n      <td>4</td>\n    </tr>\n    <tr>\n      <th>28</th>\n      <td>1420</td>\n      <td>2015-01-14</td>\n      <td>other vegetables</td>\n      <td>2015</td>\n      <td>1</td>\n      <td>14</td>\n      <td>2</td>\n    </tr>\n    <tr>\n      <th>29</th>\n      <td>4286</td>\n      <td>2015-08-03</td>\n      <td>brown bread</td>\n      <td>2015</td>\n      <td>8</td>\n      <td>3</td>\n      <td>0</td>\n    </tr>\n  </tbody>\n</table>\n</div>"
     },
     "metadata": {},
     "execution_count": 30
    }
   ],
   "source": [
    "df.head(30)"
   ]
  },
  {
   "cell_type": "code",
   "execution_count": 34,
   "metadata": {},
   "outputs": [
    {
     "output_type": "execute_result",
     "data": {
      "text/plain": [
       "       Member_number        Date        itemDescription  year  month  day\n",
       "0      Member_number        Date        itemDescription  year  month  day\n",
       "1               1808  2015-07-21         tropical fruit  2015      7   21\n",
       "2               2552  2015-05-01             whole milk  2015      5    1\n",
       "3               2300  2015-09-19              pip fruit  2015      9   19\n",
       "4               1187  2015-12-12       other vegetables  2015     12   12\n",
       "...              ...         ...                    ...   ...    ...  ...\n",
       "38761           4471  2014-08-10          sliced cheese  2014      8   10\n",
       "38762           2022  2014-02-23                  candy  2014      2   23\n",
       "38763           1097  2014-04-16               cake bar  2014      4   16\n",
       "38764           1510  2014-03-12  fruit/vegetable juice  2014      3   12\n",
       "38765           1521  2014-12-26               cat food  2014     12   26\n",
       "\n",
       "[38766 rows x 6 columns]"
      ],
      "text/html": "<div>\n<style scoped>\n    .dataframe tbody tr th:only-of-type {\n        vertical-align: middle;\n    }\n\n    .dataframe tbody tr th {\n        vertical-align: top;\n    }\n\n    .dataframe thead th {\n        text-align: right;\n    }\n</style>\n<table border=\"1\" class=\"dataframe\">\n  <thead>\n    <tr style=\"text-align: right;\">\n      <th></th>\n      <th>Member_number</th>\n      <th>Date</th>\n      <th>itemDescription</th>\n      <th>year</th>\n      <th>month</th>\n      <th>day</th>\n    </tr>\n  </thead>\n  <tbody>\n    <tr>\n      <th>0</th>\n      <td>Member_number</td>\n      <td>Date</td>\n      <td>itemDescription</td>\n      <td>year</td>\n      <td>month</td>\n      <td>day</td>\n    </tr>\n    <tr>\n      <th>1</th>\n      <td>1808</td>\n      <td>2015-07-21</td>\n      <td>tropical fruit</td>\n      <td>2015</td>\n      <td>7</td>\n      <td>21</td>\n    </tr>\n    <tr>\n      <th>2</th>\n      <td>2552</td>\n      <td>2015-05-01</td>\n      <td>whole milk</td>\n      <td>2015</td>\n      <td>5</td>\n      <td>1</td>\n    </tr>\n    <tr>\n      <th>3</th>\n      <td>2300</td>\n      <td>2015-09-19</td>\n      <td>pip fruit</td>\n      <td>2015</td>\n      <td>9</td>\n      <td>19</td>\n    </tr>\n    <tr>\n      <th>4</th>\n      <td>1187</td>\n      <td>2015-12-12</td>\n      <td>other vegetables</td>\n      <td>2015</td>\n      <td>12</td>\n      <td>12</td>\n    </tr>\n    <tr>\n      <th>...</th>\n      <td>...</td>\n      <td>...</td>\n      <td>...</td>\n      <td>...</td>\n      <td>...</td>\n      <td>...</td>\n    </tr>\n    <tr>\n      <th>38761</th>\n      <td>4471</td>\n      <td>2014-08-10</td>\n      <td>sliced cheese</td>\n      <td>2014</td>\n      <td>8</td>\n      <td>10</td>\n    </tr>\n    <tr>\n      <th>38762</th>\n      <td>2022</td>\n      <td>2014-02-23</td>\n      <td>candy</td>\n      <td>2014</td>\n      <td>2</td>\n      <td>23</td>\n    </tr>\n    <tr>\n      <th>38763</th>\n      <td>1097</td>\n      <td>2014-04-16</td>\n      <td>cake bar</td>\n      <td>2014</td>\n      <td>4</td>\n      <td>16</td>\n    </tr>\n    <tr>\n      <th>38764</th>\n      <td>1510</td>\n      <td>2014-03-12</td>\n      <td>fruit/vegetable juice</td>\n      <td>2014</td>\n      <td>3</td>\n      <td>12</td>\n    </tr>\n    <tr>\n      <th>38765</th>\n      <td>1521</td>\n      <td>2014-12-26</td>\n      <td>cat food</td>\n      <td>2014</td>\n      <td>12</td>\n      <td>26</td>\n    </tr>\n  </tbody>\n</table>\n<p>38766 rows × 6 columns</p>\n</div>"
     },
     "metadata": {},
     "execution_count": 34
    }
   ],
   "source": [
    "df.drop(['day_of_week'],axis=1)\n"
   ]
  },
  {
   "cell_type": "code",
   "execution_count": null,
   "metadata": {},
   "outputs": [],
   "source": []
  }
 ]
}