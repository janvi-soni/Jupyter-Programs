{
 "metadata": {
  "language_info": {
   "codemirror_mode": {
    "name": "ipython",
    "version": 3
   },
   "file_extension": ".py",
   "mimetype": "text/x-python",
   "name": "python",
   "nbconvert_exporter": "python",
   "pygments_lexer": "ipython3",
   "version": "3.9.4"
  },
  "orig_nbformat": 2,
  "kernelspec": {
   "name": "python394jvsc74a57bd0ac59ebe37160ed0dfa835113d9b8498d9f09ceb179beaac4002f036b9467c963",
   "display_name": "Python 3.9.4 64-bit"
  },
  "metadata": {
   "interpreter": {
    "hash": "ac59ebe37160ed0dfa835113d9b8498d9f09ceb179beaac4002f036b9467c963"
   }
  }
 },
 "nbformat": 4,
 "nbformat_minor": 2,
 "cells": [
  {
   "cell_type": "code",
   "execution_count": 132,
   "metadata": {},
   "outputs": [],
   "source": [
    "# importing libraries\n",
    "import pandas as pd \n",
    "import seaborn as sns\n",
    "import matplotlib.pyplot as plt\n",
    "import numpy as np\n",
    "import sklearn"
   ]
  },
  {
   "cell_type": "code",
   "execution_count": 133,
   "metadata": {},
   "outputs": [
    {
     "output_type": "execute_result",
     "data": {
      "text/plain": [
       "                   Country  InfantMortalityRate  Gender  Year\n",
       "0              Afghanistan            43.050731  Female  2019\n",
       "1                   Angola            44.851045  Female  2019\n",
       "2                  Albania             7.659442  Female  2019\n",
       "3                  Andorra             2.555451  Female  2019\n",
       "4     United Arab Emirates             5.716825  Female  2019\n",
       "...                    ...                  ...     ...   ...\n",
       "7618                 Samoa            16.894304   Total  2009\n",
       "7619                 Yemen            44.940469   Total  2009\n",
       "7620          South Africa            36.460146   Total  2009\n",
       "7621                Zambia            54.130195   Total  2009\n",
       "7622              Zimbabwe            55.866004   Total  2009\n",
       "\n",
       "[7623 rows x 4 columns]"
      ],
      "text/html": "<div>\n<style scoped>\n    .dataframe tbody tr th:only-of-type {\n        vertical-align: middle;\n    }\n\n    .dataframe tbody tr th {\n        vertical-align: top;\n    }\n\n    .dataframe thead th {\n        text-align: right;\n    }\n</style>\n<table border=\"1\" class=\"dataframe\">\n  <thead>\n    <tr style=\"text-align: right;\">\n      <th></th>\n      <th>Country</th>\n      <th>InfantMortalityRate</th>\n      <th>Gender</th>\n      <th>Year</th>\n    </tr>\n  </thead>\n  <tbody>\n    <tr>\n      <th>0</th>\n      <td>Afghanistan</td>\n      <td>43.050731</td>\n      <td>Female</td>\n      <td>2019</td>\n    </tr>\n    <tr>\n      <th>1</th>\n      <td>Angola</td>\n      <td>44.851045</td>\n      <td>Female</td>\n      <td>2019</td>\n    </tr>\n    <tr>\n      <th>2</th>\n      <td>Albania</td>\n      <td>7.659442</td>\n      <td>Female</td>\n      <td>2019</td>\n    </tr>\n    <tr>\n      <th>3</th>\n      <td>Andorra</td>\n      <td>2.555451</td>\n      <td>Female</td>\n      <td>2019</td>\n    </tr>\n    <tr>\n      <th>4</th>\n      <td>United Arab Emirates</td>\n      <td>5.716825</td>\n      <td>Female</td>\n      <td>2019</td>\n    </tr>\n    <tr>\n      <th>...</th>\n      <td>...</td>\n      <td>...</td>\n      <td>...</td>\n      <td>...</td>\n    </tr>\n    <tr>\n      <th>7618</th>\n      <td>Samoa</td>\n      <td>16.894304</td>\n      <td>Total</td>\n      <td>2009</td>\n    </tr>\n    <tr>\n      <th>7619</th>\n      <td>Yemen</td>\n      <td>44.940469</td>\n      <td>Total</td>\n      <td>2009</td>\n    </tr>\n    <tr>\n      <th>7620</th>\n      <td>South Africa</td>\n      <td>36.460146</td>\n      <td>Total</td>\n      <td>2009</td>\n    </tr>\n    <tr>\n      <th>7621</th>\n      <td>Zambia</td>\n      <td>54.130195</td>\n      <td>Total</td>\n      <td>2009</td>\n    </tr>\n    <tr>\n      <th>7622</th>\n      <td>Zimbabwe</td>\n      <td>55.866004</td>\n      <td>Total</td>\n      <td>2009</td>\n    </tr>\n  </tbody>\n</table>\n<p>7623 rows × 4 columns</p>\n</div>"
     },
     "metadata": {},
     "execution_count": 133
    }
   ],
   "source": [
    "# data loading \n",
    "df=pd.read_csv(r\"C:\\Users\\janvi soni\\Desktop\\datasets\\InfantMortalityRate.csv\")\n",
    "#printing data\n",
    "df\n"
   ]
  },
  {
   "cell_type": "code",
   "execution_count": 135,
   "metadata": {},
   "outputs": [
    {
     "output_type": "execute_result",
     "data": {
      "text/plain": [
       "Country                0\n",
       "InfantMortalityRate    0\n",
       "Gender                 0\n",
       "Year                   0\n",
       "dtype: int64"
      ]
     },
     "metadata": {},
     "execution_count": 135
    }
   ],
   "source": [
    "#checking if there any row is null and then adding them\n",
    "df.isnull().sum()"
   ]
  },
  {
   "cell_type": "code",
   "execution_count": 136,
   "metadata": {},
   "outputs": [],
   "source": [
    "datafeature=['Year']"
   ]
  },
  {
   "cell_type": "code",
   "execution_count": 137,
   "metadata": {},
   "outputs": [],
   "source": [
    "x=df[datafeature] # indepent variable"
   ]
  },
  {
   "cell_type": "code",
   "execution_count": 119,
   "metadata": {},
   "outputs": [],
   "source": [
    "y=df.InfantMortalityRate            #dependent variable"
   ]
  },
  {
   "cell_type": "code",
   "execution_count": 120,
   "metadata": {},
   "outputs": [],
   "source": [
    "from sklearn.tree import DecisionTreeRegressor"
   ]
  },
  {
   "cell_type": "code",
   "execution_count": 121,
   "metadata": {},
   "outputs": [
    {
     "output_type": "execute_result",
     "data": {
      "text/plain": [
       "DecisionTreeRegressor(random_state=1)"
      ]
     },
     "metadata": {},
     "execution_count": 121
    }
   ],
   "source": [
    "mymodel=DecisionTreeRegressor(random_state=1)\n",
    "mymodel.fit(x,y)"
   ]
  },
  {
   "cell_type": "code",
   "execution_count": 122,
   "metadata": {},
   "outputs": [
    {
     "output_type": "stream",
     "name": "stdout",
     "text": [
      "making prediction on 50 percent of data\n      Year\n0     2019\n1     2019\n2     2019\n3     2019\n4     2019\n...    ...\n3995  2013\n3996  2013\n3997  2013\n3998  2013\n3999  2013\n\n[4000 rows x 1 columns]\n"
     ]
    }
   ],
   "source": [
    "print(\"making prediction on 50 percent of data\")\n",
    "print(x.head(4000))                             # top 4000 rows"
   ]
  },
  {
   "cell_type": "code",
   "execution_count": 128,
   "metadata": {},
   "outputs": [
    {
     "output_type": "stream",
     "name": "stdout",
     "text": [
      "prediction:-\n[21.12426742 21.12426742 21.12426742 ... 24.96203045 24.96203045\n 24.96203045]\n"
     ]
    },
    {
     "output_type": "execute_result",
     "data": {
      "text/plain": [
       "0    43.050731\n",
       "1    44.851045\n",
       "2     7.659442\n",
       "3     2.555451\n",
       "4     5.716825\n",
       "Name: InfantMortalityRate, dtype: float64"
      ]
     },
     "metadata": {},
     "execution_count": 128
    }
   ],
   "source": [
    "print(\"prediction:-\")\n",
    "print(mymodel.predict(x.head(4000)))                                            #prediction\n",
    "df['InfantMortalityRate'].head()"
   ]
  },
  {
   "cell_type": "code",
   "execution_count": 138,
   "metadata": {},
   "outputs": [
    {
     "output_type": "execute_result",
     "data": {
      "text/plain": [
       "                Country  InfantMortalityRate  Gender  Year\n",
       "0           Afghanistan            43.050731  Female  2019\n",
       "1                Angola            44.851045  Female  2019\n",
       "2               Albania             7.659442  Female  2019\n",
       "3               Andorra             2.555451  Female  2019\n",
       "4  United Arab Emirates             5.716825  Female  2019"
      ],
      "text/html": "<div>\n<style scoped>\n    .dataframe tbody tr th:only-of-type {\n        vertical-align: middle;\n    }\n\n    .dataframe tbody tr th {\n        vertical-align: top;\n    }\n\n    .dataframe thead th {\n        text-align: right;\n    }\n</style>\n<table border=\"1\" class=\"dataframe\">\n  <thead>\n    <tr style=\"text-align: right;\">\n      <th></th>\n      <th>Country</th>\n      <th>InfantMortalityRate</th>\n      <th>Gender</th>\n      <th>Year</th>\n    </tr>\n  </thead>\n  <tbody>\n    <tr>\n      <th>0</th>\n      <td>Afghanistan</td>\n      <td>43.050731</td>\n      <td>Female</td>\n      <td>2019</td>\n    </tr>\n    <tr>\n      <th>1</th>\n      <td>Angola</td>\n      <td>44.851045</td>\n      <td>Female</td>\n      <td>2019</td>\n    </tr>\n    <tr>\n      <th>2</th>\n      <td>Albania</td>\n      <td>7.659442</td>\n      <td>Female</td>\n      <td>2019</td>\n    </tr>\n    <tr>\n      <th>3</th>\n      <td>Andorra</td>\n      <td>2.555451</td>\n      <td>Female</td>\n      <td>2019</td>\n    </tr>\n    <tr>\n      <th>4</th>\n      <td>United Arab Emirates</td>\n      <td>5.716825</td>\n      <td>Female</td>\n      <td>2019</td>\n    </tr>\n  </tbody>\n</table>\n</div>"
     },
     "metadata": {},
     "execution_count": 138
    }
   ],
   "source": [
    "df.head()                                                    # checking whwther the prediction is correct oh! it's absolutely correct\n"
   ]
  },
  {
   "cell_type": "code",
   "execution_count": null,
   "metadata": {},
   "outputs": [],
   "source": []
  }
 ]
}